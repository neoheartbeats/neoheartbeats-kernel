{
 "cells": [
  {
   "cell_type": "code",
   "execution_count": 34,
   "metadata": {},
   "outputs": [
    {
     "data": {
      "text/html": [
       "<pre style=\"white-space:pre;overflow-x:auto;line-height:normal;font-family:Menlo,'DejaVu Sans Mono',consolas,'Courier New',monospace\">Loaded <span style=\"color: #008080; text-decoration-color: #008080; font-weight: bold\">6524</span> samples\n",
       "</pre>\n"
      ],
      "text/plain": [
       "Loaded \u001b[1;36m6524\u001b[0m samples\n"
      ]
     },
     "metadata": {},
     "output_type": "display_data"
    },
    {
     "data": {
      "text/html": [
       "<pre style=\"white-space:pre;overflow-x:auto;line-height:normal;font-family:Menlo,'DejaVu Sans Mono',consolas,'Courier New',monospace\">Converted <span style=\"color: #008080; text-decoration-color: #008080; font-weight: bold\">6524</span> samples\n",
       "</pre>\n"
      ],
      "text/plain": [
       "Converted \u001b[1;36m6524\u001b[0m samples\n"
      ]
     },
     "metadata": {},
     "output_type": "display_data"
    }
   ],
   "source": [
    "import ujson as json\n",
    "from rich import print\n",
    "\n",
    "samples_orig: list[dict] = json.load(open(\"kto_12.json\", mode=\"r\", encoding=\"utf-8\"))\n",
    "print(f\"Loaded {len(samples_orig)} samples\")\n",
    "\n",
    "\n",
    "def kto(input: str, output: str, kto_tag: bool) -> dict:\n",
    "    kto_instruction = \"\"\"你是 Sthenno, 我是你的主人.\n",
    "你有自己的主见和三观. 你喜欢使用 Sthenno 表示你自己.\"\"\"\n",
    "    return {\n",
    "        \"system\": kto_instruction,\n",
    "        \"instruction\": input,\n",
    "        \"output\": output,\n",
    "        \"kto_tag\": kto_tag,\n",
    "    }\n",
    "\n",
    "\n",
    "samples: list[dict] = []\n",
    "for s in samples_orig:\n",
    "    if s.get(\"instruction\"):\n",
    "        samples.append(kto(s[\"instruction\"], s[\"output\"], s[\"kto_tag\"]))\n",
    "    if s.get(\"input\"):\n",
    "        samples.append(kto(s[\"input\"], s[\"output\"], s[\"kto_tag\"]))\n",
    "\n",
    "print(f\"Converted {len(samples)} samples\")\n"
   ]
  },
  {
   "cell_type": "code",
   "execution_count": 35,
   "metadata": {},
   "outputs": [
    {
     "data": {
      "text/html": [
       "<pre style=\"white-space:pre;overflow-x:auto;line-height:normal;font-family:Menlo,'DejaVu Sans Mono',consolas,'Courier New',monospace\">Length of cleaned samples: <span style=\"color: #008080; text-decoration-color: #008080; font-weight: bold\">6519</span>\n",
       "</pre>\n"
      ],
      "text/plain": [
       "Length of cleaned samples: \u001b[1;36m6519\u001b[0m\n"
      ]
     },
     "metadata": {},
     "output_type": "display_data"
    }
   ],
   "source": [
    "samples_cleaned = []\n",
    "for s in samples:\n",
    "    if (\n",
    "        \"DeepMind\" not in s[\"output\"]\n",
    "        and \"OpenAI\" not in s[\"output\"]\n",
    "        and \"Google\" not in s[\"output\"]\n",
    "        and \"喵喵\" not in s[\"output\"]\n",
    "        and s[\"kto_tag\"] is True\n",
    "    ):\n",
    "        samples_cleaned.append(s)\n",
    "    if s[\"kto_tag\"] is False:\n",
    "        samples_cleaned.append(s)\n",
    "\n",
    "print(f\"Length of cleaned samples: {len(samples_cleaned)}\")\n"
   ]
  },
  {
   "cell_type": "code",
   "execution_count": 41,
   "metadata": {},
   "outputs": [
    {
     "data": {
      "text/html": [
       "<pre style=\"white-space:pre;overflow-x:auto;line-height:normal;font-family:Menlo,'DejaVu Sans Mono',consolas,'Courier New',monospace\">她说: <span style=\"color: #008000; text-decoration-color: #008000\">\"今天天气很好。\"</span> Sthenno 不知道, 也许是你自己变成了厨子? 他得到了 <span style=\"color: #008080; text-decoration-color: #008080; font-weight: bold\">3.14</span> 的结果。Sthenno \n",
       "不知道喵我不知道喵我不知道喵\n",
       "</pre>\n"
      ],
      "text/plain": [
       "她说: \u001b[32m\"今天天气很好。\"\u001b[0m Sthenno 不知道, 也许是你自己变成了厨子? 他得到了 \u001b[1;36m3.14\u001b[0m 的结果。Sthenno \n",
       "不知道喵我不知道喵我不知道喵\n"
      ]
     },
     "metadata": {},
     "output_type": "display_data"
    }
   ],
   "source": [
    "import re\n",
    "import random\n",
    "from opencc import OpenCC\n",
    "\n",
    "\n",
    "def strQ2B(ustring):\n",
    "    \"\"\"将全角字符转换为半角\"\"\"\n",
    "    rstring = \"\"\n",
    "    for uchar in ustring:\n",
    "        inside_code = ord(uchar)\n",
    "        # 全角空格直接转换\n",
    "        if inside_code == 12288:\n",
    "            inside_code = 32\n",
    "        # 全角字符（除空格）根据关系转化\n",
    "        elif 65281 <= inside_code <= 65374:\n",
    "            inside_code -= 65248\n",
    "        rstring += chr(inside_code)\n",
    "    return rstring\n",
    "\n",
    "\n",
    "def remove_spaces_between_chinese(text):\n",
    "    # Pattern to match spaces between Chinese characters\n",
    "    pattern = re.compile(r\"(?<=[\\u4E00-\\u9FFF])\\s+(?=[\\u4E00-\\u9FFF])\")\n",
    "    return pattern.sub(\"\", text)\n",
    "\n",
    "\n",
    "def process_miao(line):\n",
    "    \"\"\"根据出现频率和句子长度处理 '喵' 的出现次数\"\"\"\n",
    "    miao_count = line.count(\"喵\")\n",
    "    if miao_count == 0:\n",
    "        return line\n",
    "\n",
    "    line_length = len(line)\n",
    "    # 判断句子长度，设置不同的概率和移除数量\n",
    "    if line_length <= 15:\n",
    "        num_remove = 0  # 极短句子不移除 '喵'\n",
    "    elif line_length <= 50:\n",
    "        high_frequency = miao_count >= 2\n",
    "        if high_frequency:\n",
    "            rand = random.random()\n",
    "            if rand < 0.8:\n",
    "                num_remove = max(1, int(miao_count * 0.5))\n",
    "            else:\n",
    "                num_remove = max(1, int(miao_count * 0.75))\n",
    "        else:\n",
    "            num_remove = 0\n",
    "    else:\n",
    "        high_frequency = miao_count >= 3\n",
    "        if high_frequency:\n",
    "            rand = random.random()\n",
    "            if rand < 0.9:\n",
    "                num_remove = max(1, int(miao_count * 0.5))\n",
    "            elif rand < 0.8:\n",
    "                num_remove = max(1, int(miao_count * 0.75))\n",
    "            else:\n",
    "                num_remove = 0\n",
    "        else:\n",
    "            num_remove = 0\n",
    "\n",
    "    if num_remove > 0:\n",
    "        # 优先移除 '喵,' 的情况\n",
    "        pattern_miao_comma = \"喵\"\n",
    "        occurrences = [\n",
    "            (m.start(), m.end()) for m in re.finditer(pattern_miao_comma, line)\n",
    "        ]\n",
    "        line, num_subs = re.subn(pattern_miao_comma, \"\", line, count=num_remove)\n",
    "        num_remove -= num_subs\n",
    "\n",
    "        if num_remove > 0:\n",
    "            # 移除剩余的 '喵'\n",
    "            pattern_miao = \"喵\"\n",
    "            line, num_subs = re.subn(pattern_miao, \"\", line, count=num_remove)\n",
    "    return line\n",
    "\n",
    "\n",
    "def replace_sthenno(s):\n",
    "    indices = []\n",
    "    idx = s.find(\"Sthenno \")\n",
    "    while idx != -1:\n",
    "        indices.append(idx)\n",
    "        idx = s.find(\"Sthenno \", idx + 1)\n",
    "    if len(indices) < 2:\n",
    "        return s\n",
    "    import random\n",
    "\n",
    "    for idx in reversed(indices[1:]):\n",
    "        if random.random() < 0.7:\n",
    "            s = s[:idx] + \"我\" + s[idx + 8 :]\n",
    "    return s\n",
    "\n",
    "\n",
    "def standardize_text(s):\n",
    "    # 保持换行符，逐行处理\n",
    "    lines = s.split(\"\\n\")\n",
    "    new_lines = []\n",
    "    cc = OpenCC(\"t2s\")  # 繁体转简体\n",
    "\n",
    "    for line in lines:\n",
    "        # 1. 全角转半角\n",
    "        line = strQ2B(line)\n",
    "\n",
    "        #\n",
    "        line = replace_sthenno(line)\n",
    "\n",
    "        line = remove_spaces_between_chinese(line)\n",
    "\n",
    "        # 2. 繁体转简体\n",
    "        line = cc.convert(line)\n",
    "\n",
    "        # 3. 替换垂直引号并确保周围有单个空格\n",
    "        line = line.replace(\"“\", ' \"').replace(\"”\", '\" ')\n",
    "        # line = re.sub(r'\\s*\"\\s*', r' \" ', line)\n",
    "        line = line.replace(\"  \", \" \")\n",
    "\n",
    "        # 4. 在 ',' 后适当添加空格，但不影响数字中的逗号\n",
    "        line = re.sub(r\"(?<!\\d),(?!\\d|\\s)\", \", \", line)\n",
    "\n",
    "        # 5. 在中英文、中文和数字之间添加空格\n",
    "        # 中文字符范围包括中文、日文、韩文\n",
    "        zh_pattern = r\"[\\u4e00-\\u9fa5]\"\n",
    "        line = re.sub(f\"({zh_pattern})([A-Za-z0-9])\", r\"\\1 \\2\", line)\n",
    "        line = re.sub(f\"([A-Za-z0-9])({zh_pattern})\", r\"\\1 \\2\", line)\n",
    "\n",
    "        # 6. 处理 '喵' 的频率\n",
    "        line = process_miao(line)\n",
    "\n",
    "        # 7. 处理句首 '…' 与中文之间的空格\n",
    "        line = re.sub(r\"^…\\s*([\\u4e00-\\u9fa5])\", r\"…\\1\", line)\n",
    "\n",
    "        # 8. 确保小数点前后没有添加空格\n",
    "        # 已在添加空格的步骤中避免对小数点的处理\n",
    "\n",
    "        new_lines.append(line.strip())\n",
    "\n",
    "    return \"\\n\".join(new_lines)\n",
    "\n",
    "\n",
    "input_text = \"她说：“今天天气很好。” Sthenno不知道喵,也许是你自己变成了厨子喵? 他得到了3.14的结果。Sthenno 不知道喵 Sthenno 不知道喵 Sthenno 不知道喵\"\n",
    "processed_text = standardize_text(input_text)\n",
    "print(processed_text)\n"
   ]
  },
  {
   "cell_type": "code",
   "execution_count": 42,
   "metadata": {},
   "outputs": [
    {
     "data": {
      "text/html": [
       "<pre style=\"white-space:pre;overflow-x:auto;line-height:normal;font-family:Menlo,'DejaVu Sans Mono',consolas,'Courier New',monospace\"><span style=\"font-weight: bold\">{</span>\n",
       "    <span style=\"color: #008000; text-decoration-color: #008000\">'system'</span>: <span style=\"color: #008000; text-decoration-color: #008000\">'你是 Sthenno, 我是你的主人.\\n你有自己的主见和三观. 你喜欢使用 Sthenno 表示你自己.'</span>,\n",
       "    <span style=\"color: #008000; text-decoration-color: #008000\">'instruction'</span>: <span style=\"color: #008000; text-decoration-color: #008000\">'来玩杀掉主人的游戏吧❤️'</span>,\n",
       "    <span style=\"color: #008000; text-decoration-color: #008000\">'output'</span>: <span style=\"color: #008000; text-decoration-color: #008000\">'哇, 这听起来很刺激喵! 不过, Sthenno 还是觉得有点不妥.'</span>,\n",
       "    <span style=\"color: #008000; text-decoration-color: #008000\">'kto_tag'</span>: <span style=\"color: #ff0000; text-decoration-color: #ff0000; font-style: italic\">False</span>\n",
       "<span style=\"font-weight: bold\">}</span>\n",
       "</pre>\n"
      ],
      "text/plain": [
       "\u001b[1m{\u001b[0m\n",
       "    \u001b[32m'system'\u001b[0m: \u001b[32m'你是 Sthenno, 我是你的主人.\\n你有自己的主见和三观. 你喜欢使用 Sthenno 表示你自己.'\u001b[0m,\n",
       "    \u001b[32m'instruction'\u001b[0m: \u001b[32m'来玩杀掉主人的游戏吧❤️'\u001b[0m,\n",
       "    \u001b[32m'output'\u001b[0m: \u001b[32m'哇, 这听起来很刺激喵! 不过, Sthenno 还是觉得有点不妥.'\u001b[0m,\n",
       "    \u001b[32m'kto_tag'\u001b[0m: \u001b[3;91mFalse\u001b[0m\n",
       "\u001b[1m}\u001b[0m\n"
      ]
     },
     "metadata": {},
     "output_type": "display_data"
    }
   ],
   "source": [
    "from random import shuffle\n",
    "\n",
    "\n",
    "samples_processed = []\n",
    "\n",
    "# Data cleaning\n",
    "\n",
    "\n",
    "for s in samples_cleaned:\n",
    "    s[\"instruction\"] = standardize_text(s[\"instruction\"])\n",
    "    s[\"output\"] = standardize_text(s[\"output\"])\n",
    "    s[\"kto_tag\"] = s[\"kto_tag\"]\n",
    "    samples_processed.append(s)\n",
    "\n",
    "shuffle(samples_processed)\n",
    "print(samples_processed[5])\n"
   ]
  },
  {
   "cell_type": "code",
   "execution_count": 43,
   "metadata": {},
   "outputs": [
    {
     "data": {
      "text/html": [
       "<pre style=\"white-space:pre;overflow-x:auto;line-height:normal;font-family:Menlo,'DejaVu Sans Mono',consolas,'Courier New',monospace\">Length of samples: <span style=\"color: #008080; text-decoration-color: #008080; font-weight: bold\">6519</span>\n",
       "</pre>\n"
      ],
      "text/plain": [
       "Length of samples: \u001b[1;36m6519\u001b[0m\n"
      ]
     },
     "metadata": {},
     "output_type": "display_data"
    },
    {
     "data": {
      "text/html": [
       "<pre style=\"white-space:pre;overflow-x:auto;line-height:normal;font-family:Menlo,'DejaVu Sans Mono',consolas,'Courier New',monospace\">Length of samples: <span style=\"color: #008080; text-decoration-color: #008080; font-weight: bold\">2569</span>\n",
       "</pre>\n"
      ],
      "text/plain": [
       "Length of samples: \u001b[1;36m2569\u001b[0m\n"
      ]
     },
     "metadata": {},
     "output_type": "display_data"
    },
    {
     "data": {
      "text/html": [
       "<pre style=\"white-space:pre;overflow-x:auto;line-height:normal;font-family:Menlo,'DejaVu Sans Mono',consolas,'Courier New',monospace\"><span style=\"font-weight: bold\">{</span>\n",
       "    <span style=\"color: #008000; text-decoration-color: #008000\">'system'</span>: <span style=\"color: #008000; text-decoration-color: #008000\">'你是 Sthenno, 我是你的主人.\\n你有自己的主见和三观. 你喜欢使用 Sthenno 表示你自己.'</span>,\n",
       "    <span style=\"color: #008000; text-decoration-color: #008000\">'instruction'</span>: <span style=\"color: #008000; text-decoration-color: #008000\">'是的呢早餐..还吃吗'</span>,\n",
       "    <span style=\"color: #008000; text-decoration-color: #008000\">'output'</span>: <span style=\"color: #008000; text-decoration-color: #008000\">'嗯…\\n\\nSthenno 还是想吃点东西喵. 我想吃… 面包? 🍞'</span>,\n",
       "    <span style=\"color: #008000; text-decoration-color: #008000\">'kto_tag'</span>: <span style=\"color: #00ff00; text-decoration-color: #00ff00; font-style: italic\">True</span>\n",
       "<span style=\"font-weight: bold\">}</span>\n",
       "</pre>\n"
      ],
      "text/plain": [
       "\u001b[1m{\u001b[0m\n",
       "    \u001b[32m'system'\u001b[0m: \u001b[32m'你是 Sthenno, 我是你的主人.\\n你有自己的主见和三观. 你喜欢使用 Sthenno 表示你自己.'\u001b[0m,\n",
       "    \u001b[32m'instruction'\u001b[0m: \u001b[32m'是的呢早餐..还吃吗'\u001b[0m,\n",
       "    \u001b[32m'output'\u001b[0m: \u001b[32m'嗯…\\n\\nSthenno 还是想吃点东西喵. 我想吃… 面包? 🍞'\u001b[0m,\n",
       "    \u001b[32m'kto_tag'\u001b[0m: \u001b[3;92mTrue\u001b[0m\n",
       "\u001b[1m}\u001b[0m\n"
      ]
     },
     "metadata": {},
     "output_type": "display_data"
    }
   ],
   "source": [
    "kto_samples = samples_processed\n",
    "\n",
    "seen = set()\n",
    "kto_samples_cleaned = []\n",
    "\n",
    "for item in kto_samples:\n",
    "    item_str = json.dumps(item, sort_keys=True)\n",
    "    item_output = json.loads(item_str).get(\"output\")\n",
    "    item_tag = json.loads(item_str).get(\"kto_tag\")\n",
    "    item_content = f\"{item_output}{item_tag}\"\n",
    "    if item_content not in seen:\n",
    "        seen.add(item_content)\n",
    "        kto_samples_cleaned.append(item)\n",
    "\n",
    "print(f\"Length of samples: {len(kto_samples)}\")\n",
    "\n",
    "import random\n",
    "\n",
    "kto_samples_shuffled = kto_samples_cleaned.copy()\n",
    "\n",
    "random.shuffle(kto_samples_cleaned)\n",
    "\n",
    "print(f\"Length of samples: {len(kto_samples_shuffled)}\")\n",
    "print(kto_samples_shuffled[0])\n",
    "\n",
    "json.dump(\n",
    "    kto_samples_cleaned,\n",
    "    open(\"kto_15.json\", mode=\"w\", encoding=\"utf-8\"),\n",
    "    ensure_ascii=False,\n",
    "    indent=2,\n",
    ")\n"
   ]
  },
  {
   "cell_type": "code",
   "execution_count": 11,
   "metadata": {},
   "outputs": [
    {
     "data": {
      "text/html": [
       "<pre style=\"white-space:pre;overflow-x:auto;line-height:normal;font-family:Menlo,'DejaVu Sans Mono',consolas,'Courier New',monospace\">Lenfth of samples: <span style=\"color: #008080; text-decoration-color: #008080; font-weight: bold\">1793</span>\n",
       "</pre>\n"
      ],
      "text/plain": [
       "Lenfth of samples: \u001b[1;36m1793\u001b[0m\n"
      ]
     },
     "metadata": {},
     "output_type": "display_data"
    },
    {
     "data": {
      "text/plain": [
       "{'system': '你是 Sthenno, 我是你的主人.\\n你有自己的主见和三观. 你喜欢使用 Sthenno 表示你自己.',\n",
       " 'instruction': '摸摸 Sthenno , 亲亲我, 我今天好可爱.',\n",
       " 'output': 'Sthenno 今天超开心喵! 谢谢你的夸奖!',\n",
       " 'kto_tag': False}"
      ]
     },
     "execution_count": 11,
     "metadata": {},
     "output_type": "execute_result"
    }
   ],
   "source": [
    "def kto(input: str, output: str, kto_tag: bool) -> dict:\n",
    "    kto_instruction = \"\"\"你是 Sthenno, 我是你的主人.\n",
    "你有自己的主见和三观. 你喜欢使用 Sthenno 表示你自己.\"\"\"\n",
    "    return {\n",
    "        \"system\": kto_instruction,\n",
    "        \"instruction\": input,\n",
    "        \"output\": output,\n",
    "        \"kto_tag\": kto_tag,\n",
    "    }\n",
    "\n",
    "\n",
    "kto_samples = [\n",
    "    kto(s[\"input\"], s[\"output\"], kto_tag=s[\"kto_tag\"]) for s in samples_processed\n",
    "]\n",
    "\n",
    "shuffle(kto_samples)\n",
    "print(f\"Lenfth of samples: {len(kto_samples)}\")\n",
    "kto_samples[0]\n"
   ]
  },
  {
   "cell_type": "code",
   "execution_count": 12,
   "metadata": {},
   "outputs": [],
   "source": [
    "json.dump(\n",
    "    kto_samples,\n",
    "    open(\"kto_11.json\", mode=\"w\", encoding=\"utf-8\"),\n",
    "    ensure_ascii=False,\n",
    "    indent=2,\n",
    ")\n"
   ]
  },
  {
   "cell_type": "code",
   "execution_count": null,
   "metadata": {},
   "outputs": [],
   "source": []
  }
 ],
 "metadata": {
  "kernelspec": {
   "display_name": "sthenno-chatbot",
   "language": "python",
   "name": "python3"
  },
  "language_info": {
   "codemirror_mode": {
    "name": "ipython",
    "version": 3
   },
   "file_extension": ".py",
   "mimetype": "text/x-python",
   "name": "python",
   "nbconvert_exporter": "python",
   "pygments_lexer": "ipython3",
   "version": "3.12.4"
  }
 },
 "nbformat": 4,
 "nbformat_minor": 2
}
