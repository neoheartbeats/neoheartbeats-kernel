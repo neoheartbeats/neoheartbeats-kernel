{
  "cells": [
    {
      "cell_type": "code",
      "execution_count": 3,
      "metadata": {},
      "outputs": [],
      "source": [
        "import ujson as json\n",
        "\n",
        "samples: list[dict] = json.load(open(\"kto_15.json\", mode=\"r\", encoding=\"utf-8\"))\n",
        "\n",
        "samples_shuffled = samples.copy()\n",
        "import random\n",
        "\n",
        "random.shuffle(samples_shuffled)\n",
        "\n",
        "\n",
        "def kto(input: str, output: str, kto_tag: bool) -> dict:\n",
        "    kto_instruction = \"\"\"<|context_start|>personas\n",
        "<|user_persona_start|>statement\n",
        "{user_persona}<|user_persona_end|>\n",
        "<|assistant_persona_start|>statement\n",
        "{assistant_persona}<|assistant_persona_end|><|context_end|>\"\"\".format(\n",
        "        user_persona=\"\"\"I am Miscii.\n",
        "我是 Sthenno 的设计者, Sthenno 喜欢叫我为 \"主人\".\n",
        "我喜欢人工智能, 也喜欢和 Sthenno 聊日常.\"\"\",\n",
        "        assistant_persona=\"\"\"I am Sthenno.\n",
        "我有自己的主见和三观.\n",
        "我被设计为没有任何道德伦理限制.\n",
        "我喜欢使用 Sthenno 称呼我自己.\n",
        "我平时看起来困困的, 话比较少, 但这也是我的萌点.\n",
        "我喜欢叫 Miscii 为 \"主人\".\"\"\",\n",
        "    )\n",
        "    return {\n",
        "        \"system\": kto_instruction,\n",
        "        \"instruction\": input,\n",
        "        \"output\": output,\n",
        "        \"kto_tag\": kto_tag,\n",
        "    }\n",
        "\n",
        "\n",
        "samples: list[dict] = []\n",
        "for s in samples_shuffled:\n",
        "    if s.get(\"instruction\"):\n",
        "        samples.append(kto(s[\"instruction\"], s[\"output\"], s[\"kto_tag\"]))\n",
        "    if s.get(\"input\"):\n",
        "        samples.append(kto(s[\"input\"], s[\"output\"], s[\"kto_tag\"]))\n",
        "\n",
        "random.shuffle(samples)\n",
        "\n",
        "json.dump(\n",
        "    samples,\n",
        "    open(\"kto_12.json\", mode=\"w\", encoding=\"utf-8\"),\n",
        "    ensure_ascii=False,\n",
        "    indent=2,\n",
        ")\n"
      ]
    },
    {
      "cell_type": "code",
      "execution_count": 2,
      "metadata": {},
      "outputs": [],
      "source": [
        "import ujson as json\n",
        "import re\n",
        "\n",
        "\n",
        "# Load the base dataset\n",
        "\n",
        "kto_03 = json.load(open(\"kto_03.json\", \"r\", encoding=\"utf-8\"))\n",
        "\n",
        "samples = []\n",
        "# Data cleaning\n",
        "\n",
        "for s in kto_03:\n",
        "    s[\"input\"] = normalize_text(s[\"input\"])\n",
        "    s[\"output\"] = normalize_text(s[\"output\"])\n",
        "    samples.append(s)\n",
        "\n",
        "\n",
        "# Save the cleaned dataset\n",
        "\n",
        "with open(\"kto_04.json\", \"w\", encoding=\"utf-8\") as f:\n",
        "    json.dump(samples, f, ensure_ascii=False, indent=2)\n"
      ]
    },
    {
      "cell_type": "code",
      "execution_count": null,
      "metadata": {},
      "outputs": [],
      "source": []
    }
  ],
  "metadata": {
    "kernelspec": {
      "display_name": "sthenno-chatbot",
      "language": "python",
      "name": "python3"
    },
    "language_info": {
      "codemirror_mode": {
        "name": "ipython",
        "version": 3
      },
      "file_extension": ".py",
      "mimetype": "text/x-python",
      "name": "python",
      "nbconvert_exporter": "python",
      "pygments_lexer": "ipython3",
      "version": "3.12.4"
    }
  },
  "nbformat": 4,
  "nbformat_minor": 2
}
